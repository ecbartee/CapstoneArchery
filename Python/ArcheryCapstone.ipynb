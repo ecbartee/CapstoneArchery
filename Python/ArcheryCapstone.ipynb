{
 "cells": [
  {
   "cell_type": "markdown",
   "id": "a3accae0-5193-4510-ba2f-4a87efea4c8e",
   "metadata": {},
   "source": [
    "<header>Archery Capstone</header>\n",
    "\n",
    "This capstone project was created in support of the CodeYou program to showcase the materials covered in the Data Analysis pathway. \n",
    "The code blocks below will walk you through the following:\n",
    "    1.  Accessing three layers created within ArcGIS Online to collect archery related stats from 3D target events\n",
    "    2.  Pulling these layers down to data frames to work with separately from the authoritative data within ArcGIS Online\n",
    "    3.  Cleaning and joining the data so it can be used for futher analysis and graphic creation\n",
    "    4.  Creating graphics and shot summaries for the archer to reference and analyze for trends"
   ]
  },
  {
   "cell_type": "raw",
   "id": "4ec9b1a5-f4af-4cb1-b3c2-281404bb1357",
   "metadata": {},
   "source": [
    "Data Collection\n",
    "    Data was created and collected using esri's ArcGIS Online platform in support of this project. Three distinct layers will be referneced for this project: \n",
    "        1.  A lookup table was created containing the various 3D target animals along with information on the color, size, name, and target pattern. \n",
    "        2.  A Survey123 was created to collect shoot conditions for each tournament.  Data was collected to capture the shoot name, shoot location (indoor or outdoor), shoes (minimal, hiking boots, sandals, gym shoes), temperature, weather conditions present (sunny, cloudy, humid, windy, foggy, light rain, heavy rain, stormy), and personal conditions (well rested, tired, sick, sore, hungry, full).\n",
    "        3.  A Survey123 was created to collect several details for each shot on the individual target and appearance (animal, range, position, elevation, lighting), shot execution (confidence, release details, execution details), and placement (score, aim placement, actual arrow impact). "
   ]
  },
  {
   "cell_type": "markdown",
   "id": "032ac7fe-bc5a-4fc9-9e2f-dc32d7fd1d54",
   "metadata": {},
   "source": [
    "Import Modules"
   ]
  },
  {
   "cell_type": "code",
   "execution_count": null,
   "id": "8abe1e98-2951-4365-a029-51d3b56e496c",
   "metadata": {},
   "outputs": [],
   "source": [
    "from arcgis.gis import GIS\n",
    "from arcgis.features import FeatureLayer\n",
    "import pandas as pd\n",
    "import pandasql as psql"
   ]
  },
  {
   "cell_type": "markdown",
   "id": "025dbb10-cb29-4096-b1cf-f0c8e5016999",
   "metadata": {},
   "source": [
    "Define Variables"
   ]
  },
  {
   "cell_type": "code",
   "execution_count": null,
   "id": "8f2991dd-e9a1-45c1-8732-913eabc78e7a",
   "metadata": {},
   "outputs": [],
   "source": []
  },
  {
   "cell_type": "markdown",
   "id": "dd6b7c4f-cbd2-431d-b131-b954406724ca",
   "metadata": {},
   "source": [
    "Download AGOL layers to data frames"
   ]
  },
  {
   "cell_type": "code",
   "execution_count": null,
   "id": "3a09e805-c945-4e2f-a310-bb50e2419945",
   "metadata": {},
   "outputs": [],
   "source": [
    "# Connect to ArcGIS Online\n",
    "gis = GIS(\"https://www.arcgis.com\")\n",
    "\n",
    "# Search for the layers by title\n",
    "layer1_item = gis.content.search(\"title:YourLayerTitle1\", item_type=\"Feature Layer\", max_items=1)[0]\n",
    "layer2_item = gis.content.search(\"title:YourLayerTitle2\", item_type=\"Feature Layer\", max_items=1)[0]\n",
    "layer3_item = gis.content.search(\"title:YourLayerTitle3\", item_type=\"Feature Layer\", max_items=1)[0]\n",
    "\n",
    "# Access the first layer in each item\n",
    "feature_layer1 = layer1_item.layers[0]\n",
    "feature_layer2 = layer2_item.layers[0]\n",
    "feature_layer3 = layer3_item.layers[0]\n",
    "\n",
    "# Query the layers to get all features\n",
    "features1 = feature_layer1.query(where=\"1=1\")\n",
    "features2 = feature_layer2.query(where=\"1=1\")\n",
    "features3 = feature_layer3.query(where=\"1=1\")\n",
    "\n",
    "# Convert features to pandas DataFrames\n",
    "df1 = features1.sdf\n",
    "df2 = features2.sdf\n",
    "df3 = features3.sdf\n",
    "\n",
    "# Print the DataFrames\n",
    "print(df1.head())\n",
    "print(df2.head())\n",
    "print(df3.head())"
   ]
  },
  {
   "attachments": {},
   "cell_type": "markdown",
   "id": "6a6f737b-a73c-442a-81ba-c132e4e7f40a",
   "metadata": {},
   "source": [
    "<header>Clean data frames using SQL</header>"
   ]
  },
  {
   "attachments": {},
   "cell_type": "markdown",
   "id": "e2afcf67-020a-48f6-8f8d-d2ac18c73019",
   "metadata": {},
   "source": [
    "Populate fields\n",
    "Score to Scored Ring\n",
    "Adjustment Made to No if null"
   ]
  },
  {
   "cell_type": "code",
   "execution_count": null,
   "id": "8ff0c37f-dffa-4a3d-a089-eb2a9d80c863",
   "metadata": {},
   "outputs": [],
   "source": [
    "# Example SQL query to select specific columns and filter rows\n",
    "query = \"\"\"\n",
    "SELECT column1, column2\n",
    "FROM df1\n",
    "WHERE column3 > 100\n",
    "\"\"\"\n",
    "result_df = psql.sqldf(query, locals())\n",
    "\n",
    "# Print the result of the SQL query\n",
    "print(result_df)"
   ]
  },
  {
   "attachments": {},
   "cell_type": "markdown",
   "id": "a39e4d87-d1d7-41fb-81f0-3f5e63a9647a",
   "metadata": {},
   "source": [
    "Clean data frames using SQL\n",
    "    2.  Create flag fields on multi select questions\n",
    "        Adjustment\n",
    "            Increase_Yardage, Decrease_Yardage, Sight_Left, Sight_Right\n",
    "        Position\n",
    "            Quartered_to, Quartered_From, Broadside, Leaning_Forward, Leaning_Back\n",
    "        Shot Placement\n",
    "            On_Aim_Point, High, Low, Left, Right, Miss, Kick_Out\n",
    "        Shot Execution\n",
    "            Unsure, Felt_Good, Bad_Shoulder, Bad_Release, Movement_in_Shot, Unable_to_Center_Bubble, Dip, Push_Up, Glare, other\n",
    "        Release Details\n",
    "            Too_Soon, Fast, Slow, Off_Face, Hand_Moved\n",
    "        Weather Conditions Present\n",
    "        Personal Conditions"
   ]
  },
  {
   "cell_type": "code",
   "execution_count": null,
   "id": "13cc6286-c70a-47a0-ac45-f69d9d6b5b65",
   "metadata": {},
   "outputs": [],
   "source": []
  },
  {
   "attachments": {},
   "cell_type": "markdown",
   "id": "8fa869bd-5420-45ac-8ebd-8905cdca972d",
   "metadata": {},
   "source": [
    "Clean data frames using SQL\n",
    "    3.  Create a new layer by doing a join on t1.Animals (t1.TargetName = t3.target) and t2.shooting conditions (t3.date_and_time = t2.date_and_time_of_Shoot) to t3.shot report out"
   ]
  },
  {
   "cell_type": "code",
   "execution_count": null,
   "id": "5b4d673a-210f-4642-893c-fd087ff0e78d",
   "metadata": {},
   "outputs": [],
   "source": []
  },
  {
   "cell_type": "markdown",
   "id": "415f68e7-f663-490c-9c65-9fdac214fefc",
   "metadata": {},
   "source": [
    "Create graphics\n",
    "    Shot placement on color\n",
    "    Shot placement on aim point\n",
    "    Shot Placement on range\n",
    "    Shot placement on \n",
    "    Animal Size on color\n",
    "    Shot placement on position\n",
    "    Overall Shot Placement\n",
    "    Release Details on scored ring\n",
    "    "
   ]
  },
  {
   "cell_type": "code",
   "execution_count": null,
   "id": "bda0127b-63d7-4033-98f7-fd5323540556",
   "metadata": {},
   "outputs": [],
   "source": []
  },
  {
   "cell_type": "markdown",
   "id": "0439a7c2-ee0b-46f5-adca-4a0ff7e0919a",
   "metadata": {},
   "source": [
    "Create Readme\n",
    "    Purpose\n",
    "    Background\n",
    "    Goals\n",
    "    Modules Needed\n",
    "    "
   ]
  },
  {
   "cell_type": "markdown",
   "id": "01d7b595-52a3-4f6a-9dbc-bd3cf11a69b6",
   "metadata": {},
   "source": [
    "Future Work\n",
    "    1.  Identify further parameters for performing analysis\n",
    "    2.  Fine tune the shoot report mobile survey to collect additional informaiton (i.e. which direction is the target facing), populate defaults, and improve the data entry process, and allow for open ranges. \n",
    "    3.  Create a PDF or Word Report for daily shoot summaries\n",
    "    \n",
    "    "
   ]
  }
 ],
 "metadata": {
  "kernelspec": {
   "display_name": "Python 3 (ipykernel)",
   "language": "python",
   "name": "python3"
  },
  "language_info": {
   "codemirror_mode": {
    "name": "ipython",
    "version": 3
   },
   "file_extension": ".py",
   "mimetype": "text/x-python",
   "name": "python",
   "nbconvert_exporter": "python",
   "pygments_lexer": "ipython3",
   "version": "3.11.8"
  }
 },
 "nbformat": 4,
 "nbformat_minor": 5
}
