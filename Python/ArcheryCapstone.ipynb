{
 "cells": [
  {
   "cell_type": "markdown",
   "id": "a3accae0-5193-4510-ba2f-4a87efea4c8e",
   "metadata": {},
   "source": [
    "# Archery Capstone\n",
    "This capstone project was created in support of the CodeYou program to showcase the materials covered in the Data Analysis pathway. \n",
    "The code blocks below will walk you through the following:<br>\n",
    "1. Accessing three layers created within ArcGIS Online to collect archery related stats from 3D target events<br>\n",
    "2. Pulling these layers down to data frames to work with separately from the authoritative data within ArcGIS Online<br>\n",
    "3. Cleaning and joining the data so it can be used for futher analysis and graphic creation<br>\n",
    "4. Creating graphics and shot summaries for the archer to reference and analyze for trends"
   ]
  },
  {
   "cell_type": "markdown",
   "id": "b12a42b4-1a15-4962-b98f-b03ef26ff703",
   "metadata": {},
   "source": [
    "## Data Collection\n",
    "Data was created and collected using esri's ArcGIS Online platform in support of this project. Three distinct layers will be referenced for this project:<br>\n",
    "1.  A lookup table was created containing the various 3D target animals along with information on the color, size, name, and target pattern.<br> \n",
    "2.  A Survey123 was created to collect shoot conditions for each tournament.  Data was collected to capture the shoot name, shoot location (indoor or outdoor), shoes (minimal, hiking boots, sandals, gym shoes), temperature, weather conditions present (sunny, cloudy, humid, windy, foggy, light rain, heavy rain, stormy), and personal conditions (well rested, tired, sick, sore, hungry, full).<br>\n",
    "3.  A Survey123 was created to collect several details for each shot on the individual target and appearance (animal, range, position, elevation, lighting), shot execution (confidence, release details, execution details), and placement (score, aim placement, actual arrow impact). "
   ]
  },
  {
   "cell_type": "markdown",
   "id": "032ac7fe-bc5a-4fc9-9e2f-dc32d7fd1d54",
   "metadata": {},
   "source": [
    "### Import Modules\n",
    "\n",
    "This section imports the various modules required for the code to execute. "
   ]
  },
  {
   "cell_type": "code",
   "execution_count": null,
   "id": "8abe1e98-2951-4365-a029-51d3b56e496c",
   "metadata": {},
   "outputs": [],
   "source": [
    "from arcgis.gis import GIS\n",
    "from arcgis.features import FeatureLayer\n",
    "import pandas as pd\n",
    "import pandasql as psql\n",
    "import requests\n",
    "print(\"Modules Imported\")"
   ]
  },
  {
   "cell_type": "markdown",
   "id": "025dbb10-cb29-4096-b1cf-f0c8e5016999",
   "metadata": {},
   "source": [
    "### Define Variables\n",
    "\n",
    "This section defines any variables which may be referenced in subsequent code blocks below."
   ]
  },
  {
   "cell_type": "code",
   "execution_count": null,
   "id": "8f2991dd-e9a1-45c1-8732-913eabc78e7a",
   "metadata": {},
   "outputs": [],
   "source": []
  },
  {
   "cell_type": "markdown",
   "id": "dd6b7c4f-cbd2-431d-b131-b954406724ca",
   "metadata": {},
   "source": [
    "### Download AGOL layers to data frames\n",
    "\n",
    "This section connects to ArcGIS Online and downloads the three datasets to dataframes for cleaning and analysis."
   ]
  },
  {
   "cell_type": "markdown",
   "id": "6ed782cd",
   "metadata": {},
   "source": [
    "There is an issue with downloading the animals AGOL layer.  Look at fixing that or pull it to a CSV in the data folder and then send it to a data frame from the CSV"
   ]
  },
  {
   "cell_type": "code",
   "execution_count": 50,
   "id": "27065fdf",
   "metadata": {},
   "outputs": [
    {
     "name": "stdout",
     "output_type": "stream",
     "text": [
      "Feature Service\n",
      "[<Table url:\"https://services6.arcgis.com/MQNEtGZdkDmSDKfq/arcgis/rest/services/AnimalLookup_view/FeatureServer/0\">]\n"
     ]
    },
    {
     "ename": "AttributeError",
     "evalue": "'list' object has no attribute 'query'",
     "output_type": "error",
     "traceback": [
      "\u001b[1;31m---------------------------------------------------------------------------\u001b[0m",
      "\u001b[1;31mAttributeError\u001b[0m                            Traceback (most recent call last)",
      "Cell \u001b[1;32mIn[50], line 17\u001b[0m\n\u001b[0;32m     14\u001b[0m \u001b[38;5;28mprint\u001b[39m(item\u001b[38;5;241m.\u001b[39mtables)\n\u001b[0;32m     16\u001b[0m \u001b[38;5;66;03m# Query all features\u001b[39;00m\n\u001b[1;32m---> 17\u001b[0m features \u001b[38;5;241m=\u001b[39m \u001b[43mfeature_layer\u001b[49m\u001b[38;5;241;43m.\u001b[39;49m\u001b[43mquery\u001b[49m()\n\u001b[0;32m     18\u001b[0m \u001b[38;5;28mprint\u001b[39m(features)\n\u001b[0;32m     20\u001b[0m \u001b[38;5;66;03m# Convert to a Spatial DataFrame\u001b[39;00m\n",
      "\u001b[1;31mAttributeError\u001b[0m: 'list' object has no attribute 'query'"
     ]
    }
   ],
   "source": [
    "# Connect to ArcGIS Online\n",
    "gis = GIS()\n",
    "\n",
    "# Item ID of the public layer\n",
    "item_id = \"f48b43672acf4aa1858fcbffe15e33cc\"\n",
    "\n",
    "# Get the item\n",
    "item = gis.content.get(item_id)\n",
    "print(item.type)\n",
    "\n",
    "# If the item is a Feature Layer, access the first layer in the item\n",
    "if 'Feature Service' in item.type:\n",
    "    feature_layer = item.tables\n",
    "    print(item.tables)\n",
    "\n",
    "    # Query all features\n",
    "    features = feature_layer.query()\n",
    "    print(features)\n",
    "\n",
    "    # Convert to a Spatial DataFrame\n",
    "    sdf = features.sdf\n",
    "    \n",
    "    # Print the dataframe\n",
    "    print(sdf)\n"
   ]
  },
  {
   "cell_type": "code",
   "execution_count": 46,
   "id": "3a09e805-c945-4e2f-a310-bb50e2419945",
   "metadata": {},
   "outputs": [
    {
     "name": "stdout",
     "output_type": "stream",
     "text": [
      "Feature Service\n",
      "Feature Service\n",
      "Feature Service\n",
      "<FeatureLayer url:\"https://services6.arcgis.com/MQNEtGZdkDmSDKfq/arcgis/rest/services/survey123_c0aeabe39091491e937f8938d064f6f8/FeatureServer/0\">\n",
      "<FeatureLayer url:\"https://services6.arcgis.com/MQNEtGZdkDmSDKfq/arcgis/rest/services/survey123_4cefed1f94564642baf9db2aeb6e23a3/FeatureServer/0\">\n",
      "[]\n"
     ]
    },
    {
     "ename": "AttributeError",
     "evalue": "'Item' object has no attribute 'query'",
     "output_type": "error",
     "traceback": [
      "\u001b[1;31m---------------------------------------------------------------------------\u001b[0m",
      "\u001b[1;31mKeyError\u001b[0m                                  Traceback (most recent call last)",
      "\u001b[1;32mc:\\Users\\emily.bartee\\Documents\\Projects\\CapstoneArchery\\CapstoneArchery\\venv\\Lib\\site-packages\\arcgis\\gis\\__init__.py\u001b[0m in \u001b[0;36m?\u001b[1;34m(self, name)\u001b[0m\n\u001b[0;32m  13555\u001b[0m             \u001b[1;32mreturn\u001b[0m \u001b[0mdict\u001b[0m\u001b[1;33m.\u001b[0m\u001b[0m__getitem__\u001b[0m\u001b[1;33m(\u001b[0m\u001b[0mself\u001b[0m\u001b[1;33m,\u001b[0m \u001b[0mname\u001b[0m\u001b[1;33m)\u001b[0m\u001b[1;33m\u001b[0m\u001b[1;33m\u001b[0m\u001b[0m\n\u001b[0;32m  13556\u001b[0m         \u001b[1;32mexcept\u001b[0m\u001b[1;33m:\u001b[0m\u001b[1;33m\u001b[0m\u001b[1;33m\u001b[0m\u001b[0m\n\u001b[1;32m> 13557\u001b[1;33m             raise AttributeError(\n\u001b[0m\u001b[0;32m  13558\u001b[0m                 \u001b[1;34m\"'%s' object has no attribute '%s'\"\u001b[0m \u001b[1;33m%\u001b[0m \u001b[1;33m(\u001b[0m\u001b[0mtype\u001b[0m\u001b[1;33m(\u001b[0m\u001b[0mself\u001b[0m\u001b[1;33m)\u001b[0m\u001b[1;33m.\u001b[0m\u001b[0m__name__\u001b[0m\u001b[1;33m,\u001b[0m \u001b[0mname\u001b[0m\u001b[1;33m)\u001b[0m\u001b[1;33m\u001b[0m\u001b[1;33m\u001b[0m\u001b[0m\n",
      "\u001b[1;31mKeyError\u001b[0m: 'query'",
      "\nDuring handling of the above exception, another exception occurred:\n",
      "\u001b[1;31mAttributeError\u001b[0m                            Traceback (most recent call last)",
      "\u001b[1;32m~\\AppData\\Local\\Temp\\ipykernel_30300\\959958793.py\u001b[0m in \u001b[0;36m?\u001b[1;34m()\u001b[0m\n\u001b[0;32m     29\u001b[0m \u001b[1;31m# Query the layers to get all features\u001b[0m\u001b[1;33m\u001b[0m\u001b[1;33m\u001b[0m\u001b[0m\n\u001b[0;32m     30\u001b[0m \u001b[1;31m# features1 = layer1_Animals.query(where=\"1=1\")\u001b[0m\u001b[1;33m\u001b[0m\u001b[1;33m\u001b[0m\u001b[0m\n\u001b[0;32m     31\u001b[0m \u001b[1;31m# features2 = layer2_Shot.query(where=\"1=1\")\u001b[0m\u001b[1;33m\u001b[0m\u001b[1;33m\u001b[0m\u001b[0m\n\u001b[0;32m     32\u001b[0m \u001b[1;31m# features3 = layer3_Shoot.query(where=\"1=1\")\u001b[0m\u001b[1;33m\u001b[0m\u001b[1;33m\u001b[0m\u001b[0m\n\u001b[1;32m---> 33\u001b[1;33m \u001b[0mfeatures1\u001b[0m \u001b[1;33m=\u001b[0m \u001b[0mlayer1_Animals\u001b[0m\u001b[1;33m.\u001b[0m\u001b[0mquery\u001b[0m\u001b[1;33m(\u001b[0m\u001b[1;33m)\u001b[0m\u001b[1;33m\u001b[0m\u001b[1;33m\u001b[0m\u001b[0m\n\u001b[0m\u001b[0;32m     34\u001b[0m \u001b[0mfeatures2\u001b[0m \u001b[1;33m=\u001b[0m \u001b[0mlayer2_Shot\u001b[0m\u001b[1;33m.\u001b[0m\u001b[0mquery\u001b[0m\u001b[1;33m(\u001b[0m\u001b[1;33m)\u001b[0m\u001b[1;33m\u001b[0m\u001b[1;33m\u001b[0m\u001b[0m\n\u001b[0;32m     35\u001b[0m \u001b[0mfeatures3\u001b[0m \u001b[1;33m=\u001b[0m \u001b[0mlayer3_Shoot\u001b[0m\u001b[1;33m.\u001b[0m\u001b[0mquery\u001b[0m\u001b[1;33m(\u001b[0m\u001b[1;33m)\u001b[0m\u001b[1;33m\u001b[0m\u001b[1;33m\u001b[0m\u001b[0m\n\u001b[0;32m     36\u001b[0m \u001b[1;33m\u001b[0m\u001b[0m\n",
      "\u001b[1;32mc:\\Users\\emily.bartee\\Documents\\Projects\\CapstoneArchery\\CapstoneArchery\\venv\\Lib\\site-packages\\arcgis\\gis\\__init__.py\u001b[0m in \u001b[0;36m?\u001b[1;34m(self, name)\u001b[0m\n\u001b[0;32m  13553\u001b[0m             \u001b[0mself\u001b[0m\u001b[1;33m.\u001b[0m\u001b[0m_hydrate\u001b[0m\u001b[1;33m(\u001b[0m\u001b[1;33m)\u001b[0m\u001b[1;33m\u001b[0m\u001b[1;33m\u001b[0m\u001b[0m\n\u001b[0;32m  13554\u001b[0m         \u001b[1;32mtry\u001b[0m\u001b[1;33m:\u001b[0m\u001b[1;33m\u001b[0m\u001b[1;33m\u001b[0m\u001b[0m\n\u001b[0;32m  13555\u001b[0m             \u001b[1;32mreturn\u001b[0m \u001b[0mdict\u001b[0m\u001b[1;33m.\u001b[0m\u001b[0m__getitem__\u001b[0m\u001b[1;33m(\u001b[0m\u001b[0mself\u001b[0m\u001b[1;33m,\u001b[0m \u001b[0mname\u001b[0m\u001b[1;33m)\u001b[0m\u001b[1;33m\u001b[0m\u001b[1;33m\u001b[0m\u001b[0m\n\u001b[0;32m  13556\u001b[0m         \u001b[1;32mexcept\u001b[0m\u001b[1;33m:\u001b[0m\u001b[1;33m\u001b[0m\u001b[1;33m\u001b[0m\u001b[0m\n\u001b[1;32m> 13557\u001b[1;33m             raise AttributeError(\n\u001b[0m\u001b[0;32m  13558\u001b[0m                 \u001b[1;34m\"'%s' object has no attribute '%s'\"\u001b[0m \u001b[1;33m%\u001b[0m \u001b[1;33m(\u001b[0m\u001b[0mtype\u001b[0m\u001b[1;33m(\u001b[0m\u001b[0mself\u001b[0m\u001b[1;33m)\u001b[0m\u001b[1;33m.\u001b[0m\u001b[0m__name__\u001b[0m\u001b[1;33m,\u001b[0m \u001b[0mname\u001b[0m\u001b[1;33m)\u001b[0m\u001b[1;33m\u001b[0m\u001b[1;33m\u001b[0m\u001b[0m\n\u001b[0;32m  13559\u001b[0m             )\n",
      "\u001b[1;31mAttributeError\u001b[0m: 'Item' object has no attribute 'query'"
     ]
    }
   ],
   "source": [
    "# Connect to ArcGIS Online\n",
    "# gis = GIS(\"https://sso.maps.arcgis.com/\")\n",
    "gis = GIS()\n",
    "\n",
    "# Define ItemIDs for AGOL layers\n",
    "Animals = \"990f64ab39b24e5b9aa9febc336b72fa\"\n",
    "Shot = \"f0314c505e83428d8ce6894a8d73eb09\"\n",
    "Shoot = \"5fa46f5f47e841b1b2454271cd346d8f\"\n",
    "\n",
    "# Search for the layers by title\n",
    "layer3_Shoot = gis.content.get(Shoot)\n",
    "print (layer3_Shoot.type)\n",
    "layer2_Shot = gis.content.get(Shot)\n",
    "print (layer2_Shot.type)\n",
    "layer1_Animals = gis.content.get(Animals)\n",
    "print (layer1_Animals.type)\n",
    "\n",
    "\n",
    "\n",
    "# Access the first layer in each item\n",
    "feature_layer2_Shot = layer2_Shot.layers[0]\n",
    "feature_layer3_Shoot = layer3_Shoot.layers[0]\n",
    "print (feature_layer2_Shot)\n",
    "print (feature_layer3_Shoot)\n",
    "feature_layer1_Animals = layer1_Animals.layers\n",
    "print (feature_layer1_Animals)\n",
    "\n",
    "\n",
    "# Query the layers to get all features\n",
    "# features1 = layer1_Animals.query(where=\"1=1\")\n",
    "# features2 = layer2_Shot.query(where=\"1=1\")\n",
    "# features3 = layer3_Shoot.query(where=\"1=1\")\n",
    "features1 = layer1_Animals.query()\n",
    "features2 = layer2_Shot.query()\n",
    "features3 = layer3_Shoot.query()\n",
    "\n",
    "# Convert features to pandas DataFrames\n",
    "df1_Animals = features1.sdf\n",
    "df2_Shot = features2.sdf\n",
    "df3_Shoot = features3.sdf\n",
    "\n",
    "# Print the DataFrames\n",
    "print(df1_Animals.head())\n",
    "print(df2_Shot.head())\n",
    "print(df3_Shoot.head())"
   ]
  },
  {
   "cell_type": "code",
   "execution_count": null,
   "id": "b9ca9ea1",
   "metadata": {},
   "outputs": [],
   "source": [
    "\n",
    "# Search for the layers by title\n",
    "layer1_Animals = gis.content.search(\"AnimalLookup\", item_type=\"Table\", max_items=1)[0]\n",
    "layer2_Shot = gis.content.search(\"survey\", item_type=\"Feature Layer\", max_items=1)[0]\n",
    "layer3_Shoot = gis.content.search(\"title:YourLayerTitle3\", item_type=\"Feature Layer\", max_items=1)[0]\n",
    "\n",
    "# # Search for the layers by title\n",
    "# layer1_Animals = gis.content.get(\"990f64ab39b24e5b9aa9febc336b72fa\")\n",
    "# layer2_Shot = gis.content.get(\"f0314c505e83428d8ce6894a8d73eb09\")\n",
    "# layer3_Shoot = gis.content.get(\"5fa46f5f47e841b1b2454271cd346d8f\")\n",
    "\n",
    "# Access the first layer in each item\n",
    "feature_layer1_Animals = layer1_Animals.layers[0]\n",
    "feature_layer2_Shot = layer2_Shot.layers[0]\n",
    "feature_layer3_Shoot = layer3_Shoot.layers[0]\n",
    "\n",
    "# Query the layers to get all features\n",
    "features1 = feature_layer1_Animals.query(where=\"1=1\")\n",
    "features2 = feature_layer2_Shot.query(where=\"1=1\")\n",
    "features3 = feature_layer3_Shoot.query(where=\"1=1\")\n",
    "\n",
    "# Convert features to pandas DataFrames\n",
    "df1_Animals = features1.sdf\n",
    "df2_Shot = features2.sdf\n",
    "df3_Shoot = features3.sdf\n",
    "\n",
    "# Print the DataFrames\n",
    "print(df1_Animals.head())\n",
    "print(df2_Shot.head())\n",
    "print(df3_Shoot.head())"
   ]
  },
  {
   "attachments": {},
   "cell_type": "markdown",
   "id": "6a6f737b-a73c-442a-81ba-c132e4e7f40a",
   "metadata": {},
   "source": [
    "### Clean data frames using SQL"
   ]
  },
  {
   "attachments": {},
   "cell_type": "markdown",
   "id": "e2afcf67-020a-48f6-8f8d-d2ac18c73019",
   "metadata": {},
   "source": [
    "1. Populate fields<br>\n",
    "    - Score to Scored Ring<br>\n",
    "    - Adjustment Made to No if null"
   ]
  },
  {
   "cell_type": "code",
   "execution_count": null,
   "id": "8ff0c37f-dffa-4a3d-a089-eb2a9d80c863",
   "metadata": {},
   "outputs": [],
   "source": [
    "# Example SQL query to select specific columns and filter rows\n",
    "query = \"\"\"\n",
    "SELECT column1, column2\n",
    "FROM df1\n",
    "WHERE column3 > 100\n",
    "\"\"\"\n",
    "result_df = psql.sqldf(query, locals())\n",
    "\n",
    "# Print the result of the SQL query\n",
    "print(result_df)"
   ]
  },
  {
   "attachments": {},
   "cell_type": "markdown",
   "id": "a39e4d87-d1d7-41fb-81f0-3f5e63a9647a",
   "metadata": {},
   "source": [
    "2. Clean data frames using SQL\n",
    "-  Create flag fields on multi select questions\n",
    "    -  Adjustment\n",
    "        -  Increase_Yardage, Decrease_Yardage, Sight_Left, Sight_Right\n",
    "    -  Position\n",
    "        -  Quartered_to, Quartered_From, Broadside, Leaning_Forward, Leaning_Back\n",
    "    -  Shot Placement\n",
    "        -  On_Aim_Point, High, Low, Left, Right, Miss, Kick_Out\n",
    "    -  Shot Execution\n",
    "        -  Unsure, Felt_Good, Bad_Shoulder, Bad_Release, Movement_in_Shot, Unable_to_Center_Bubble, Dip, Push_Up, Glare, other\n",
    "    -  Release Details\n",
    "        -  Too_Soon, Fast, Slow, Off_Face, Hand_Moved\n",
    "    -  Weather Conditions Present\n",
    "    -  Personal Conditions"
   ]
  },
  {
   "cell_type": "code",
   "execution_count": null,
   "id": "13cc6286-c70a-47a0-ac45-f69d9d6b5b65",
   "metadata": {},
   "outputs": [],
   "source": []
  },
  {
   "attachments": {},
   "cell_type": "markdown",
   "id": "8fa869bd-5420-45ac-8ebd-8905cdca972d",
   "metadata": {},
   "source": [
    "5. Clean data frames using SQL\n",
    "    - Create a new layer by doing a join on t1.Animals (t1.TargetName = t3.target) and t2.shooting conditions (t3.date_and_time = t2.date_and_time_of_Shoot) to t3.shot report out"
   ]
  },
  {
   "cell_type": "code",
   "execution_count": null,
   "id": "5b4d673a-210f-4642-893c-fd087ff0e78d",
   "metadata": {},
   "outputs": [],
   "source": []
  },
  {
   "cell_type": "markdown",
   "id": "415f68e7-f663-490c-9c65-9fdac214fefc",
   "metadata": {},
   "source": [
    "Create graphics\n",
    "    Shot placement on color\n",
    "    Shot placement on aim point\n",
    "    Shot Placement on range\n",
    "    Shot placement on \n",
    "    Animal Size on color\n",
    "    Shot placement on position\n",
    "    Overall Shot Placement\n",
    "    Release Details on scored ring\n",
    "    "
   ]
  },
  {
   "cell_type": "code",
   "execution_count": null,
   "id": "bda0127b-63d7-4033-98f7-fd5323540556",
   "metadata": {},
   "outputs": [],
   "source": []
  },
  {
   "cell_type": "markdown",
   "id": "0439a7c2-ee0b-46f5-adca-4a0ff7e0919a",
   "metadata": {},
   "source": [
    "Create Readme\n",
    "    Modules Needed\n",
    "    "
   ]
  },
  {
   "cell_type": "markdown",
   "id": "01d7b595-52a3-4f6a-9dbc-bd3cf11a69b6",
   "metadata": {},
   "source": [
    "Future Work\n",
    "    1.  Identify further parameters for performing analysis\n",
    "    2.  Fine tune the shoot report mobile survey to collect additional informaiton (i.e. which direction is the target facing), populate defaults, and improve the data entry process, and allow for open ranges. \n",
    "    3.  Create a PDF or Word Report for daily shoot summaries\n",
    "    \n",
    "    "
   ]
  }
 ],
 "metadata": {
  "kernelspec": {
   "display_name": "Python 3 (ipykernel)",
   "language": "python",
   "name": "python3"
  },
  "language_info": {
   "codemirror_mode": {
    "name": "ipython",
    "version": 3
   },
   "file_extension": ".py",
   "mimetype": "text/x-python",
   "name": "python",
   "nbconvert_exporter": "python",
   "pygments_lexer": "ipython3",
   "version": "3.11.8"
  }
 },
 "nbformat": 4,
 "nbformat_minor": 5
}
